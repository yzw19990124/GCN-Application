{
 "cells": [
  {
   "cell_type": "code",
   "execution_count": 14,
   "metadata": {},
   "outputs": [],
   "source": [
    "import pandas as pd\n",
    "import numpy as np\n",
    "\n",
    "# Read in the data\n",
    "df = pd.read_excel('/Users/dexw/Desktop/GCN-Application/MPO_Dataset/express_highway_performance_data_2019.xlsx', header=[0,1,2])"
   ]
  },
  {
   "cell_type": "code",
   "execution_count": 16,
   "metadata": {},
   "outputs": [
    {
     "data": {
      "text/plain": [
       "Index(['Roadway ID', 'From Measure', 'TMC', 'Route Number', 'Direction',\n",
       "       'Community(ies)', 'Segment Begin Location', 'Segment End Location',\n",
       "       'Length(miles)', 'Lanes', 'SpeedLimit(mph)', 'AMAverageSpeed (mph)',\n",
       "       'AMCongestedSpeed (mph)', 'AMCongestedMinutes',\n",
       "       'AM Delayper Mile(minutes)', 'AM AverageTravel TimeIndex',\n",
       "       'AM 5%Travel TimeIndex', 'AMSpeedIndex', 'PMAverageSpeed (mph)',\n",
       "       'PMCongestedSpeed (mph)', 'PMCongestedMinutes',\n",
       "       'PM Delayper Mile(minutes)', 'PM AverageTravel TimeIndex',\n",
       "       'PM 5%Travel TimeIndex', 'PMSpeedIndex'],\n",
       "      dtype='object')"
      ]
     },
     "execution_count": 16,
     "metadata": {},
     "output_type": "execute_result"
    }
   ],
   "source": [
    "#Combine the multi-index columns into a single index\n",
    "df.columns = [\"\".join([c for c in d if 'Unnamed' not in c]) for d in df.columns]"
   ]
  },
  {
   "cell_type": "code",
   "execution_count": 18,
   "metadata": {},
   "outputs": [
    {
     "name": "stdout",
     "output_type": "stream",
     "text": [
      "<class 'pandas.core.frame.DataFrame'>\n",
      "RangeIndex: 1285 entries, 0 to 1284\n",
      "Data columns (total 25 columns):\n",
      " #   Column                      Non-Null Count  Dtype  \n",
      "---  ------                      --------------  -----  \n",
      " 0   Roadway ID                  1285 non-null   int64  \n",
      " 1   From Measure                1285 non-null   float64\n",
      " 2   TMC                         1285 non-null   object \n",
      " 3   Route Number                1263 non-null   object \n",
      " 4   Direction                   1285 non-null   object \n",
      " 5   Community(ies)              1285 non-null   object \n",
      " 6   Segment Begin Location      1285 non-null   object \n",
      " 7   Segment End Location        1285 non-null   object \n",
      " 8   Length(miles)               1285 non-null   float64\n",
      " 9   Lanes                       1285 non-null   int64  \n",
      " 10  SpeedLimit(mph)             1285 non-null   int64  \n",
      " 11  AMAverageSpeed (mph)        1285 non-null   float64\n",
      " 12  AMCongestedSpeed (mph)      1285 non-null   float64\n",
      " 13  AMCongestedMinutes          1285 non-null   float64\n",
      " 14  AM Delayper Mile(minutes)   1285 non-null   float64\n",
      " 15  AM AverageTravel TimeIndex  1285 non-null   float64\n",
      " 16  AM 5%Travel TimeIndex       1285 non-null   float64\n",
      " 17  AMSpeedIndex                1285 non-null   float64\n",
      " 18  PMAverageSpeed (mph)        1285 non-null   float64\n",
      " 19  PMCongestedSpeed (mph)      1285 non-null   float64\n",
      " 20  PMCongestedMinutes          1285 non-null   float64\n",
      " 21  PM Delayper Mile(minutes)   1285 non-null   float64\n",
      " 22  PM AverageTravel TimeIndex  1285 non-null   float64\n",
      " 23  PM 5%Travel TimeIndex       1285 non-null   float64\n",
      " 24  PMSpeedIndex                1285 non-null   float64\n",
      "dtypes: float64(16), int64(3), object(6)\n",
      "memory usage: 251.1+ KB\n"
     ]
    }
   ],
   "source": [
    "df.info()"
   ]
  },
  {
   "cell_type": "code",
   "execution_count": 34,
   "metadata": {},
   "outputs": [
    {
     "data": {
      "text/html": [
       "<div>\n",
       "<style scoped>\n",
       "    .dataframe tbody tr th:only-of-type {\n",
       "        vertical-align: middle;\n",
       "    }\n",
       "\n",
       "    .dataframe tbody tr th {\n",
       "        vertical-align: top;\n",
       "    }\n",
       "\n",
       "    .dataframe thead th {\n",
       "        text-align: right;\n",
       "    }\n",
       "</style>\n",
       "<table border=\"1\" class=\"dataframe\">\n",
       "  <thead>\n",
       "    <tr style=\"text-align: right;\">\n",
       "      <th></th>\n",
       "      <th>Roadway ID</th>\n",
       "      <th>From Measure</th>\n",
       "      <th>TMC</th>\n",
       "      <th>Route Number</th>\n",
       "      <th>Direction</th>\n",
       "      <th>Community(ies)</th>\n",
       "      <th>Segment Begin Location</th>\n",
       "      <th>Segment End Location</th>\n",
       "      <th>Length(miles)</th>\n",
       "      <th>Lanes</th>\n",
       "      <th>...</th>\n",
       "      <th>AM AverageTravel TimeIndex</th>\n",
       "      <th>AM 5%Travel TimeIndex</th>\n",
       "      <th>AMSpeedIndex</th>\n",
       "      <th>PMAverageSpeed (mph)</th>\n",
       "      <th>PMCongestedSpeed (mph)</th>\n",
       "      <th>PMCongestedMinutes</th>\n",
       "      <th>PM Delayper Mile(minutes)</th>\n",
       "      <th>PM AverageTravel TimeIndex</th>\n",
       "      <th>PM 5%Travel TimeIndex</th>\n",
       "      <th>PMSpeedIndex</th>\n",
       "    </tr>\n",
       "  </thead>\n",
       "  <tbody>\n",
       "    <tr>\n",
       "      <th>0</th>\n",
       "      <td>7</td>\n",
       "      <td>11.211164</td>\n",
       "      <td>129+04109</td>\n",
       "      <td>I-93</td>\n",
       "      <td>Northbound</td>\n",
       "      <td>Boston+ Milton</td>\n",
       "      <td>Granite Ave/Exit 11</td>\n",
       "      <td>MA-203/Gallivan Blvd/Exit 12</td>\n",
       "      <td>0.240405</td>\n",
       "      <td>4</td>\n",
       "      <td>...</td>\n",
       "      <td>4.352202</td>\n",
       "      <td>6.60</td>\n",
       "      <td>0.275722</td>\n",
       "      <td>27.378035</td>\n",
       "      <td>19.351332</td>\n",
       "      <td>45.240355</td>\n",
       "      <td>1.282447</td>\n",
       "      <td>2.410692</td>\n",
       "      <td>4.714286</td>\n",
       "      <td>0.497782</td>\n",
       "    </tr>\n",
       "    <tr>\n",
       "      <th>1</th>\n",
       "      <td>14</td>\n",
       "      <td>14.103595</td>\n",
       "      <td>129+04745</td>\n",
       "      <td>RT-2</td>\n",
       "      <td>Westbound</td>\n",
       "      <td>Lexington+ Lincoln</td>\n",
       "      <td>I-95/Exit 52</td>\n",
       "      <td>Bedford Rd</td>\n",
       "      <td>1.917807</td>\n",
       "      <td>3</td>\n",
       "      <td>...</td>\n",
       "      <td>1.061658</td>\n",
       "      <td>1.16</td>\n",
       "      <td>1.214034</td>\n",
       "      <td>37.611782</td>\n",
       "      <td>24.878823</td>\n",
       "      <td>25.183181</td>\n",
       "      <td>0.560762</td>\n",
       "      <td>1.542070</td>\n",
       "      <td>3.222222</td>\n",
       "      <td>0.835817</td>\n",
       "    </tr>\n",
       "  </tbody>\n",
       "</table>\n",
       "<p>2 rows × 25 columns</p>\n",
       "</div>"
      ],
      "text/plain": [
       "   Roadway ID  From Measure        TMC Route Number   Direction  \\\n",
       "0           7     11.211164  129+04109         I-93  Northbound   \n",
       "1          14     14.103595  129+04745         RT-2   Westbound   \n",
       "\n",
       "       Community(ies) Segment Begin Location          Segment End Location  \\\n",
       "0      Boston+ Milton    Granite Ave/Exit 11  MA-203/Gallivan Blvd/Exit 12   \n",
       "1  Lexington+ Lincoln           I-95/Exit 52                    Bedford Rd   \n",
       "\n",
       "   Length(miles)  Lanes  ...  AM AverageTravel TimeIndex  \\\n",
       "0       0.240405      4  ...                    4.352202   \n",
       "1       1.917807      3  ...                    1.061658   \n",
       "\n",
       "   AM 5%Travel TimeIndex  AMSpeedIndex  PMAverageSpeed (mph)  \\\n",
       "0                   6.60      0.275722             27.378035   \n",
       "1                   1.16      1.214034             37.611782   \n",
       "\n",
       "   PMCongestedSpeed (mph)  PMCongestedMinutes  PM Delayper Mile(minutes)  \\\n",
       "0               19.351332           45.240355                   1.282447   \n",
       "1               24.878823           25.183181                   0.560762   \n",
       "\n",
       "   PM AverageTravel TimeIndex  PM 5%Travel TimeIndex  PMSpeedIndex  \n",
       "0                    2.410692               4.714286      0.497782  \n",
       "1                    1.542070               3.222222      0.835817  \n",
       "\n",
       "[2 rows x 25 columns]"
      ]
     },
     "execution_count": 34,
     "metadata": {},
     "output_type": "execute_result"
    }
   ],
   "source": [
    "df.head(2)"
   ]
  },
  {
   "cell_type": "code",
   "execution_count": 29,
   "metadata": {},
   "outputs": [
    {
     "data": {
      "text/plain": [
       "Roadway ID                                              7\n",
       "From Measure                                      4.52583\n",
       "TMC                                             129+04103\n",
       "Route Number                                         I-93\n",
       "Direction                                      Northbound\n",
       "Community(ies)                Braintree+ Quincy+ Randolph\n",
       "Segment Begin Location          MA-28/Randolph Ave/Exit 5\n",
       "Segment End Location              MA-37/Granite St/Exit 6\n",
       "Length(miles)                                    1.623471\n",
       "Lanes                                                   4\n",
       "SpeedLimit(mph)                                        55\n",
       "AMAverageSpeed (mph)                            50.218594\n",
       "AMCongestedSpeed (mph)                           19.89459\n",
       "AMCongestedMinutes                              15.971602\n",
       "AM Delayper Mile(minutes)                        0.325211\n",
       "AM AverageTravel TimeIndex                       1.373993\n",
       "AM 5%Travel TimeIndex                                5.75\n",
       "AMSpeedIndex                                     0.913065\n",
       "PMAverageSpeed (mph)                            43.265379\n",
       "PMCongestedSpeed (mph)                          25.030375\n",
       "PMCongestedMinutes                              24.384828\n",
       "PM Delayper Mile(minutes)                        0.517225\n",
       "PM AverageTravel TimeIndex                       1.594809\n",
       "PM 5%Travel TimeIndex                            3.631579\n",
       "PMSpeedIndex                                     0.786643\n",
       "Name: 28, dtype: object"
      ]
     },
     "execution_count": 29,
     "metadata": {},
     "output_type": "execute_result"
    }
   ],
   "source": [
    "df.iloc[28]"
   ]
  },
  {
   "cell_type": "code",
   "execution_count": 30,
   "metadata": {},
   "outputs": [
    {
     "data": {
      "text/plain": [
       "Roadway ID                                               7\n",
       "From Measure                                     11.211164\n",
       "TMC                                              129+04109\n",
       "Route Number                                          I-93\n",
       "Direction                                       Northbound\n",
       "Community(ies)                              Boston+ Milton\n",
       "Segment Begin Location                 Granite Ave/Exit 11\n",
       "Segment End Location          MA-203/Gallivan Blvd/Exit 12\n",
       "Length(miles)                                     0.240405\n",
       "Lanes                                                    4\n",
       "SpeedLimit(mph)                                         55\n",
       "AMAverageSpeed (mph)                             15.164736\n",
       "AMCongestedSpeed (mph)                           15.164736\n",
       "AMCongestedMinutes                                    60.0\n",
       "AM Delayper Mile(minutes)                         3.047457\n",
       "AM AverageTravel TimeIndex                        4.352202\n",
       "AM 5%Travel TimeIndex                                  6.6\n",
       "AMSpeedIndex                                      0.275722\n",
       "PMAverageSpeed (mph)                             27.378035\n",
       "PMCongestedSpeed (mph)                           19.351332\n",
       "PMCongestedMinutes                               45.240355\n",
       "PM Delayper Mile(minutes)                         1.282447\n",
       "PM AverageTravel TimeIndex                        2.410692\n",
       "PM 5%Travel TimeIndex                             4.714286\n",
       "PMSpeedIndex                                      0.497782\n",
       "Name: 0, dtype: object"
      ]
     },
     "execution_count": 30,
     "metadata": {},
     "output_type": "execute_result"
    }
   ],
   "source": [
    "df.iloc[0]"
   ]
  },
  {
   "cell_type": "code",
   "execution_count": 1,
   "metadata": {},
   "outputs": [],
   "source": [
    "import pandas as pd\n",
    "import numpy as np"
   ]
  }
 ],
 "metadata": {
  "kernelspec": {
   "display_name": "openai",
   "language": "python",
   "name": "python3"
  },
  "language_info": {
   "codemirror_mode": {
    "name": "ipython",
    "version": 3
   },
   "file_extension": ".py",
   "mimetype": "text/x-python",
   "name": "python",
   "nbconvert_exporter": "python",
   "pygments_lexer": "ipython3",
   "version": "3.10.11"
  },
  "orig_nbformat": 4
 },
 "nbformat": 4,
 "nbformat_minor": 2
}
