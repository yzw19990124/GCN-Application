{
 "cells": [
  {
   "cell_type": "code",
   "execution_count": 14,
   "metadata": {},
   "outputs": [],
   "source": [
    "import pandas as pd\n",
    "import numpy as np\n",
    "\n",
    "# Read in the data\n",
    "df = pd.read_excel('/Users/dexw/Desktop/GCN-Application/MPO_Dataset/express_highway_performance_data_2019.xlsx', header=[0,1,2])"
   ]
  },
  {
   "cell_type": "code",
   "execution_count": 16,
   "metadata": {},
   "outputs": [
    {
     "data": {
      "text/plain": [
       "Index(['Roadway ID', 'From Measure', 'TMC', 'Route Number', 'Direction',\n",
       "       'Community(ies)', 'Segment Begin Location', 'Segment End Location',\n",
       "       'Length(miles)', 'Lanes', 'SpeedLimit(mph)', 'AMAverageSpeed (mph)',\n",
       "       'AMCongestedSpeed (mph)', 'AMCongestedMinutes',\n",
       "       'AM Delayper Mile(minutes)', 'AM AverageTravel TimeIndex',\n",
       "       'AM 5%Travel TimeIndex', 'AMSpeedIndex', 'PMAverageSpeed (mph)',\n",
       "       'PMCongestedSpeed (mph)', 'PMCongestedMinutes',\n",
       "       'PM Delayper Mile(minutes)', 'PM AverageTravel TimeIndex',\n",
       "       'PM 5%Travel TimeIndex', 'PMSpeedIndex'],\n",
       "      dtype='object')"
      ]
     },
     "execution_count": 16,
     "metadata": {},
     "output_type": "execute_result"
    }
   ],
   "source": [
    "#Combine the multi-index columns into a single index\n",
    "df.columns = [\"\".join([c for c in d if 'Unnamed' not in c]) for d in df.columns]"
   ]
  },
  {
   "cell_type": "code",
   "execution_count": 18,
   "metadata": {},
   "outputs": [
    {
     "name": "stdout",
     "output_type": "stream",
     "text": [
      "<class 'pandas.core.frame.DataFrame'>\n",
      "RangeIndex: 1285 entries, 0 to 1284\n",
      "Data columns (total 25 columns):\n",
      " #   Column                      Non-Null Count  Dtype  \n",
      "---  ------                      --------------  -----  \n",
      " 0   Roadway ID                  1285 non-null   int64  \n",
      " 1   From Measure                1285 non-null   float64\n",
      " 2   TMC                         1285 non-null   object \n",
      " 3   Route Number                1263 non-null   object \n",
      " 4   Direction                   1285 non-null   object \n",
      " 5   Community(ies)              1285 non-null   object \n",
      " 6   Segment Begin Location      1285 non-null   object \n",
      " 7   Segment End Location        1285 non-null   object \n",
      " 8   Length(miles)               1285 non-null   float64\n",
      " 9   Lanes                       1285 non-null   int64  \n",
      " 10  SpeedLimit(mph)             1285 non-null   int64  \n",
      " 11  AMAverageSpeed (mph)        1285 non-null   float64\n",
      " 12  AMCongestedSpeed (mph)      1285 non-null   float64\n",
      " 13  AMCongestedMinutes          1285 non-null   float64\n",
      " 14  AM Delayper Mile(minutes)   1285 non-null   float64\n",
      " 15  AM AverageTravel TimeIndex  1285 non-null   float64\n",
      " 16  AM 5%Travel TimeIndex       1285 non-null   float64\n",
      " 17  AMSpeedIndex                1285 non-null   float64\n",
      " 18  PMAverageSpeed (mph)        1285 non-null   float64\n",
      " 19  PMCongestedSpeed (mph)      1285 non-null   float64\n",
      " 20  PMCongestedMinutes          1285 non-null   float64\n",
      " 21  PM Delayper Mile(minutes)   1285 non-null   float64\n",
      " 22  PM AverageTravel TimeIndex  1285 non-null   float64\n",
      " 23  PM 5%Travel TimeIndex       1285 non-null   float64\n",
      " 24  PMSpeedIndex                1285 non-null   float64\n",
      "dtypes: float64(16), int64(3), object(6)\n",
      "memory usage: 251.1+ KB\n"
     ]
    }
   ],
   "source": [
    "df.info()"
   ]
  },
  {
   "cell_type": "code",
   "execution_count": 31,
   "metadata": {},
   "outputs": [
    {
     "data": {
      "text/plain": [
       "{'Roadway ID': {0: 7},\n",
       " 'From Measure': {0: 11.2111637},\n",
       " 'TMC': {0: '129+04109'},\n",
       " 'Route Number': {0: 'I-93'},\n",
       " 'Direction': {0: 'Northbound'},\n",
       " 'Community(ies)': {0: 'Boston+ Milton'},\n",
       " 'Segment Begin Location': {0: 'Granite Ave/Exit 11'},\n",
       " 'Segment End Location': {0: 'MA-203/Gallivan Blvd/Exit 12'},\n",
       " 'Length(miles)': {0: 0.24040466},\n",
       " 'Lanes': {0: 4},\n",
       " 'SpeedLimit(mph)': {0: 55},\n",
       " 'AMAverageSpeed (mph)': {0: 15.16473608},\n",
       " 'AMCongestedSpeed (mph)': {0: 15.16473608},\n",
       " 'AMCongestedMinutes': {0: 60.0},\n",
       " 'AM Delayper Mile(minutes)': {0: 3.04745668},\n",
       " 'AM AverageTravel TimeIndex': {0: 4.35220235},\n",
       " 'AM 5%Travel TimeIndex': {0: 6.6},\n",
       " 'AMSpeedIndex': {0: 0.27572247},\n",
       " 'PMAverageSpeed (mph)': {0: 27.37803452},\n",
       " 'PMCongestedSpeed (mph)': {0: 19.35133163},\n",
       " 'PMCongestedMinutes': {0: 45.2403548599999},\n",
       " 'PM Delayper Mile(minutes)': {0: 1.28244698},\n",
       " 'PM AverageTravel TimeIndex': {0: 2.41069168},\n",
       " 'PM 5%Travel TimeIndex': {0: 4.71428571},\n",
       " 'PMSpeedIndex': {0: 0.49778245}}"
      ]
     },
     "execution_count": 31,
     "metadata": {},
     "output_type": "execute_result"
    }
   ],
   "source": [
    "df.head(1).to_dict()"
   ]
  },
  {
   "cell_type": "code",
   "execution_count": 29,
   "metadata": {},
   "outputs": [
    {
     "data": {
      "text/plain": [
       "Roadway ID                                              7\n",
       "From Measure                                      4.52583\n",
       "TMC                                             129+04103\n",
       "Route Number                                         I-93\n",
       "Direction                                      Northbound\n",
       "Community(ies)                Braintree+ Quincy+ Randolph\n",
       "Segment Begin Location          MA-28/Randolph Ave/Exit 5\n",
       "Segment End Location              MA-37/Granite St/Exit 6\n",
       "Length(miles)                                    1.623471\n",
       "Lanes                                                   4\n",
       "SpeedLimit(mph)                                        55\n",
       "AMAverageSpeed (mph)                            50.218594\n",
       "AMCongestedSpeed (mph)                           19.89459\n",
       "AMCongestedMinutes                              15.971602\n",
       "AM Delayper Mile(minutes)                        0.325211\n",
       "AM AverageTravel TimeIndex                       1.373993\n",
       "AM 5%Travel TimeIndex                                5.75\n",
       "AMSpeedIndex                                     0.913065\n",
       "PMAverageSpeed (mph)                            43.265379\n",
       "PMCongestedSpeed (mph)                          25.030375\n",
       "PMCongestedMinutes                              24.384828\n",
       "PM Delayper Mile(minutes)                        0.517225\n",
       "PM AverageTravel TimeIndex                       1.594809\n",
       "PM 5%Travel TimeIndex                            3.631579\n",
       "PMSpeedIndex                                     0.786643\n",
       "Name: 28, dtype: object"
      ]
     },
     "execution_count": 29,
     "metadata": {},
     "output_type": "execute_result"
    }
   ],
   "source": [
    "df.iloc[28]"
   ]
  },
  {
   "cell_type": "code",
   "execution_count": 30,
   "metadata": {},
   "outputs": [
    {
     "data": {
      "text/plain": [
       "Roadway ID                                               7\n",
       "From Measure                                     11.211164\n",
       "TMC                                              129+04109\n",
       "Route Number                                          I-93\n",
       "Direction                                       Northbound\n",
       "Community(ies)                              Boston+ Milton\n",
       "Segment Begin Location                 Granite Ave/Exit 11\n",
       "Segment End Location          MA-203/Gallivan Blvd/Exit 12\n",
       "Length(miles)                                     0.240405\n",
       "Lanes                                                    4\n",
       "SpeedLimit(mph)                                         55\n",
       "AMAverageSpeed (mph)                             15.164736\n",
       "AMCongestedSpeed (mph)                           15.164736\n",
       "AMCongestedMinutes                                    60.0\n",
       "AM Delayper Mile(minutes)                         3.047457\n",
       "AM AverageTravel TimeIndex                        4.352202\n",
       "AM 5%Travel TimeIndex                                  6.6\n",
       "AMSpeedIndex                                      0.275722\n",
       "PMAverageSpeed (mph)                             27.378035\n",
       "PMCongestedSpeed (mph)                           19.351332\n",
       "PMCongestedMinutes                               45.240355\n",
       "PM Delayper Mile(minutes)                         1.282447\n",
       "PM AverageTravel TimeIndex                        2.410692\n",
       "PM 5%Travel TimeIndex                             4.714286\n",
       "PMSpeedIndex                                      0.497782\n",
       "Name: 0, dtype: object"
      ]
     },
     "execution_count": 30,
     "metadata": {},
     "output_type": "execute_result"
    }
   ],
   "source": [
    "df.iloc[0]"
   ]
  }
 ],
 "metadata": {
  "kernelspec": {
   "display_name": "openai",
   "language": "python",
   "name": "python3"
  },
  "language_info": {
   "codemirror_mode": {
    "name": "ipython",
    "version": 3
   },
   "file_extension": ".py",
   "mimetype": "text/x-python",
   "name": "python",
   "nbconvert_exporter": "python",
   "pygments_lexer": "ipython3",
   "version": "3.9.16"
  },
  "orig_nbformat": 4
 },
 "nbformat": 4,
 "nbformat_minor": 2
}
